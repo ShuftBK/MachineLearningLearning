{
 "metadata": {
  "language_info": {
   "codemirror_mode": {
    "name": "ipython",
    "version": 3
   },
   "file_extension": ".py",
   "mimetype": "text/x-python",
   "name": "python",
   "nbconvert_exporter": "python",
   "pygments_lexer": "ipython3",
   "version": 3
  },
  "orig_nbformat": 2
 },
 "nbformat": 4,
 "nbformat_minor": 2,
 "cells": [
  {
   "source": [
    "# 4章 モデルの訓練"
   ],
   "cell_type": "markdown",
   "metadata": {}
  },
  {
   "source": [
    "## 4.1 線形回帰\n",
    "\n",
    "$$\n",
    "    \\hat{y} = h_0 (\\boldsymbol{x}) = \\theta ^ T \\cdot \\boldsymbol{x}\n",
    "$$ \n",
    "\n",
    "\n",
    "こんな感じの線形回帰モデルにできたらうれしい．JupyterのMDでTeX数式使えるの便利すぎて涙出そう．"
   ],
   "cell_type": "markdown",
   "metadata": {}
  },
  {
   "cell_type": "code",
   "execution_count": null,
   "metadata": {},
   "outputs": [],
   "source": []
  }
 ]
}